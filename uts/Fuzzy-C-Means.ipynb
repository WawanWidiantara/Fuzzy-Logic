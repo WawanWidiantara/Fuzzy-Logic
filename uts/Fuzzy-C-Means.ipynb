{
 "cells": [
  {
   "cell_type": "code",
   "execution_count": 132,
   "metadata": {},
   "outputs": [],
   "source": [
    "import numpy as np\n",
    "import pandas as pd\n",
    "import skfuzzy as fuzz\n",
    "from skfuzzy import control as ctrl\n",
    "import matplotlib.pyplot as plt\n",
    "from sklearn.decomposition import PCA"
   ]
  },
  {
   "cell_type": "code",
   "execution_count": 133,
   "metadata": {},
   "outputs": [
    {
     "data": {
      "text/html": [
       "<div>\n",
       "<style scoped>\n",
       "    .dataframe tbody tr th:only-of-type {\n",
       "        vertical-align: middle;\n",
       "    }\n",
       "\n",
       "    .dataframe tbody tr th {\n",
       "        vertical-align: top;\n",
       "    }\n",
       "\n",
       "    .dataframe thead th {\n",
       "        text-align: right;\n",
       "    }\n",
       "</style>\n",
       "<table border=\"1\" class=\"dataframe\">\n",
       "  <thead>\n",
       "    <tr style=\"text-align: right;\">\n",
       "      <th></th>\n",
       "      <th>Merk_Produk</th>\n",
       "      <th>Harga</th>\n",
       "      <th>Jenis_Kulit</th>\n",
       "      <th>Rating</th>\n",
       "      <th>Jumlah_Terjual</th>\n",
       "    </tr>\n",
       "  </thead>\n",
       "  <tbody>\n",
       "    <tr>\n",
       "      <th>0</th>\n",
       "      <td>Cetaphil Gentle Skin Cleanser</td>\n",
       "      <td>23250</td>\n",
       "      <td>1</td>\n",
       "      <td>3.504</td>\n",
       "      <td>1334</td>\n",
       "    </tr>\n",
       "    <tr>\n",
       "      <th>1</th>\n",
       "      <td>MS Glow Facial Wash</td>\n",
       "      <td>26500</td>\n",
       "      <td>2</td>\n",
       "      <td>4.231</td>\n",
       "      <td>978</td>\n",
       "    </tr>\n",
       "    <tr>\n",
       "      <th>2</th>\n",
       "      <td>COSRX Low pH Good Morning Gel Cleanser</td>\n",
       "      <td>16999</td>\n",
       "      <td>3</td>\n",
       "      <td>4.883</td>\n",
       "      <td>1243</td>\n",
       "    </tr>\n",
       "    <tr>\n",
       "      <th>3</th>\n",
       "      <td>COSRX Salicylic Acid Daily Gentle Cleanser</td>\n",
       "      <td>32500</td>\n",
       "      <td>4</td>\n",
       "      <td>4.654</td>\n",
       "      <td>256</td>\n",
       "    </tr>\n",
       "    <tr>\n",
       "      <th>4</th>\n",
       "      <td>Scarlett Whitening Facial Wash</td>\n",
       "      <td>21300</td>\n",
       "      <td>5</td>\n",
       "      <td>4.764</td>\n",
       "      <td>660</td>\n",
       "    </tr>\n",
       "  </tbody>\n",
       "</table>\n",
       "</div>"
      ],
      "text/plain": [
       "                                  Merk_Produk  Harga  Jenis_Kulit  Rating   \n",
       "0               Cetaphil Gentle Skin Cleanser  23250            1   3.504  \\\n",
       "1                         MS Glow Facial Wash  26500            2   4.231   \n",
       "2      COSRX Low pH Good Morning Gel Cleanser  16999            3   4.883   \n",
       "3  COSRX Salicylic Acid Daily Gentle Cleanser  32500            4   4.654   \n",
       "4              Scarlett Whitening Facial Wash  21300            5   4.764   \n",
       "\n",
       "   Jumlah_Terjual  \n",
       "0            1334  \n",
       "1             978  \n",
       "2            1243  \n",
       "3             256  \n",
       "4             660  "
      ]
     },
     "execution_count": 133,
     "metadata": {},
     "output_type": "execute_result"
    }
   ],
   "source": [
    "raw = pd.read_excel('data-facial-wash.xlsx')\n",
    "raw.head()"
   ]
  },
  {
   "cell_type": "code",
   "execution_count": 134,
   "metadata": {},
   "outputs": [
    {
     "data": {
      "text/plain": [
       "array([[2.3250e+04, 1.0000e+00, 3.5040e+00, 1.3340e+03],\n",
       "       [2.6500e+04, 2.0000e+00, 4.2310e+00, 9.7800e+02],\n",
       "       [1.6999e+04, 3.0000e+00, 4.8830e+00, 1.2430e+03],\n",
       "       [3.2500e+04, 4.0000e+00, 4.6540e+00, 2.5600e+02],\n",
       "       [2.1300e+04, 5.0000e+00, 4.7640e+00, 6.6000e+02],\n",
       "       [1.8200e+04, 5.0000e+00, 4.3670e+00, 7.5000e+02],\n",
       "       [3.3000e+04, 2.0000e+00, 5.0000e+00, 7.7000e+02],\n",
       "       [1.4040e+04, 1.0000e+00, 4.9060e+00, 6.9600e+02],\n",
       "       [1.4000e+04, 1.0000e+00, 4.0040e+00, 3.4500e+02],\n",
       "       [1.3275e+04, 4.0000e+00, 3.0470e+00, 6.0800e+02],\n",
       "       [3.2000e+04, 1.0000e+00, 5.0000e+00, 5.5000e+02],\n",
       "       [3.1702e+04, 4.0000e+00, 4.3240e+00, 6.7700e+02],\n",
       "       [1.5499e+04, 4.0000e+00, 4.5640e+00, 8.5400e+02],\n",
       "       [2.0200e+04, 1.0000e+00, 3.7650e+00, 5.5000e+02],\n",
       "       [1.5867e+04, 5.0000e+00, 5.0000e+00, 8.8800e+02],\n",
       "       [2.2000e+04, 5.0000e+00, 3.0050e+00, 7.6500e+02],\n",
       "       [3.2500e+04, 1.0000e+00, 3.7640e+00, 8.5000e+02],\n",
       "       [5.5800e+04, 3.0000e+00, 3.0070e+00, 1.0160e+03],\n",
       "       [3.2000e+05, 4.0000e+00, 3.9930e+00, 6.9600e+02],\n",
       "       [9.4500e+03, 1.0000e+00, 3.8790e+00, 7.8300e+02],\n",
       "       [3.1635e+04, 3.0000e+00, 5.0000e+00, 4.8700e+02],\n",
       "       [3.8000e+04, 1.0000e+00, 5.0000e+00, 7.5000e+02],\n",
       "       [1.6900e+04, 3.0000e+00, 3.7540e+00, 1.2420e+03],\n",
       "       [3.1927e+04, 1.0000e+00, 4.6480e+00, 7.0700e+02],\n",
       "       [3.2400e+04, 1.0000e+00, 4.1040e+00, 9.0000e+02],\n",
       "       [1.0000e+05, 5.0000e+00, 5.0000e+00, 7.8000e+02],\n",
       "       [3.2000e+04, 2.0000e+00, 3.0450e+00, 6.6000e+02],\n",
       "       [1.8250e+04, 1.0000e+00, 3.9020e+00, 6.9300e+02],\n",
       "       [3.2500e+04, 1.0000e+00, 4.0240e+00, 8.6900e+02],\n",
       "       [6.5000e+04, 5.0000e+00, 4.0530e+00, 3.3900e+02],\n",
       "       [2.8000e+04, 2.0000e+00, 4.3520e+00, 3.0600e+02],\n",
       "       [8.4915e+04, 1.0000e+00, 4.7210e+00, 1.1420e+03],\n",
       "       [3.2580e+04, 2.0000e+00, 5.0000e+00, 7.7000e+02],\n",
       "       [3.2000e+04, 1.0000e+00, 4.0920e+00, 1.3400e+03],\n",
       "       [1.5875e+04, 2.0000e+00, 4.3020e+00, 8.7000e+02]])"
      ]
     },
     "execution_count": 134,
     "metadata": {},
     "output_type": "execute_result"
    }
   ],
   "source": [
    "data = raw.drop(['Merk_Produk'], axis=1)\n",
    "data = data.to_numpy()\n",
    "data"
   ]
  },
  {
   "cell_type": "code",
   "execution_count": 135,
   "metadata": {},
   "outputs": [],
   "source": [
    "# Define hyperparameters\n",
    "n_clusters_range = range(2, 15)\n",
    "n_clusters = 5\n",
    "max_iter = 1000\n",
    "m = 2\n",
    "error = 0.005"
   ]
  },
  {
   "cell_type": "code",
   "execution_count": 136,
   "metadata": {},
   "outputs": [
    {
     "name": "stdout",
     "output_type": "stream",
     "text": [
      "Cluster Centers: [[1.66169164e+04 2.81471142e+00 4.17077085e+00 8.07943606e+02]\n",
      " [9.31252472e+04 3.18424697e+00 4.87269051e+00 9.44129366e+02]\n",
      " [3.19999287e+05 3.99999603e+00 3.99300169e+00 6.96000653e+02]\n",
      " [6.05257281e+04 3.99059222e+00 3.54784253e+00 6.75563292e+02]\n",
      " [3.19153964e+04 1.88433439e+00 4.39776361e+00 7.28528963e+02]]\n",
      "Cluster Membership: [0 4 0 4 0 0 4 0 0 0 4 4 0 0 0 0 4 3 2 0 4 4 0 4 4 1 4 0 4 3 4 1 4 4 0]\n"
     ]
    }
   ],
   "source": [
    "# Apply fuzzy c-means clustering\n",
    "cntr, u, u0, d, jm, p, fpc = fuzz.cluster.cmeans(data.T, n_clusters, m, error=error, maxiter=max_iter, init=None, seed=42)\n",
    "\n",
    "# Predict cluster membership for each data2 point\n",
    "cluster_membership = np.argmax(u, axis=0)\n",
    "\n",
    "# Print the cluster centers\n",
    "print('Cluster Centers:', cntr)\n",
    " \n",
    "# Print the cluster membership for each data2 point\n",
    "print('Cluster Membership:', cluster_membership)\n"
   ]
  },
  {
   "cell_type": "code",
   "execution_count": 137,
   "metadata": {},
   "outputs": [],
   "source": [
    "# Apply fuzzy c-means clustering\n",
    "fpcs = []\n",
    "for n_clusters in n_clusters_range:\n",
    "    cntr, u, u0, d, jm, p, fpc = fuzz.cluster.cmeans(data.T, n_clusters, m, error=error, maxiter=max_iter, init=None, seed=42)\n",
    "    fpcs.append(fpc)"
   ]
  },
  {
   "cell_type": "code",
   "execution_count": 138,
   "metadata": {},
   "outputs": [
    {
     "data": {
      "image/png": "[encoded data removed]",
      "text/plain": [
       "<Figure size 640x480 with 1 Axes>"
      ]
     },
     "metadata": {},
     "output_type": "display_data"
    }
   ],
   "source": [
    "# Line plot of FPC vs. number of clusters\n",
    "plt.plot(n_clusters_range, fpcs)\n",
    "plt.xlabel('Number of Clusters')\n",
    "plt.ylabel('FPC')\n",
    "plt.title('FPC Variation')\n",
    "plt.show()"
   ]
  }
 ],
 "metadata": {
  "kernelspec": {
   "display_name": "pyenv",
   "language": "python",
   "name": "python3"
  },
  "language_info": {
   "codemirror_mode": {
    "name": "ipython",
    "version": 3
   },
   "file_extension": ".py",
   "mimetype": "text/x-python",
   "name": "python",
   "nbconvert_exporter": "python",
   "pygments_lexer": "ipython3",
   "version": "3.11.3"
  }
 },
 "nbformat": 4,
 "nbformat_minor": 2
}
