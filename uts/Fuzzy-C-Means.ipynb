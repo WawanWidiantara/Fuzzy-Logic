{
 "cells": [
  {
   "cell_type": "code",
   "execution_count": 41,
   "metadata": {},
   "outputs": [],
   "source": [
    "import numpy as np\n",
    "import pandas as pd\n",
    "import skfuzzy as fuzz\n",
    "from skfuzzy import control as ctrl\n",
    "import matplotlib.pyplot as plt\n",
    "from sklearn.decomposition import PCA"
   ]
  },
  {
   "cell_type": "code",
   "execution_count": 42,
   "metadata": {},
   "outputs": [
    {
     "data": {
      "text/html": [
       "<div>\n",
       "<style scoped>\n",
       "    .dataframe tbody tr th:only-of-type {\n",
       "        vertical-align: middle;\n",
       "    }\n",
       "\n",
       "    .dataframe tbody tr th {\n",
       "        vertical-align: top;\n",
       "    }\n",
       "\n",
       "    .dataframe thead th {\n",
       "        text-align: right;\n",
       "    }\n",
       "</style>\n",
       "<table border=\"1\" class=\"dataframe\">\n",
       "  <thead>\n",
       "    <tr style=\"text-align: right;\">\n",
       "      <th></th>\n",
       "      <th>Merk_Produk</th>\n",
       "      <th>Harga</th>\n",
       "      <th>Jenis_Kulit</th>\n",
       "      <th>Rating</th>\n",
       "      <th>Jumlah_Terjual</th>\n",
       "    </tr>\n",
       "  </thead>\n",
       "  <tbody>\n",
       "    <tr>\n",
       "      <th>0</th>\n",
       "      <td>Cetaphil Gentle Skin Cleanser</td>\n",
       "      <td>23250</td>\n",
       "      <td>1</td>\n",
       "      <td>3.504</td>\n",
       "      <td>1334</td>\n",
       "    </tr>\n",
       "    <tr>\n",
       "      <th>1</th>\n",
       "      <td>MS Glow Facial Wash</td>\n",
       "      <td>26500</td>\n",
       "      <td>2</td>\n",
       "      <td>4.231</td>\n",
       "      <td>978</td>\n",
       "    </tr>\n",
       "    <tr>\n",
       "      <th>2</th>\n",
       "      <td>COSRX Low pH Good Morning Gel Cleanser</td>\n",
       "      <td>16999</td>\n",
       "      <td>3</td>\n",
       "      <td>4.883</td>\n",
       "      <td>1243</td>\n",
       "    </tr>\n",
       "    <tr>\n",
       "      <th>3</th>\n",
       "      <td>COSRX Salicylic Acid Daily Gentle Cleanser</td>\n",
       "      <td>32500</td>\n",
       "      <td>4</td>\n",
       "      <td>4.654</td>\n",
       "      <td>256</td>\n",
       "    </tr>\n",
       "    <tr>\n",
       "      <th>4</th>\n",
       "      <td>Scarlett Whitening Facial Wash</td>\n",
       "      <td>21300</td>\n",
       "      <td>5</td>\n",
       "      <td>4.764</td>\n",
       "      <td>660</td>\n",
       "    </tr>\n",
       "  </tbody>\n",
       "</table>\n",
       "</div>"
      ],
      "text/plain": [
       "                                  Merk_Produk  Harga  Jenis_Kulit  Rating   \n",
       "0               Cetaphil Gentle Skin Cleanser  23250            1   3.504  \\\n",
       "1                         MS Glow Facial Wash  26500            2   4.231   \n",
       "2      COSRX Low pH Good Morning Gel Cleanser  16999            3   4.883   \n",
       "3  COSRX Salicylic Acid Daily Gentle Cleanser  32500            4   4.654   \n",
       "4              Scarlett Whitening Facial Wash  21300            5   4.764   \n",
       "\n",
       "   Jumlah_Terjual  \n",
       "0            1334  \n",
       "1             978  \n",
       "2            1243  \n",
       "3             256  \n",
       "4             660  "
      ]
     },
     "execution_count": 42,
     "metadata": {},
     "output_type": "execute_result"
    }
   ],
   "source": [
    "raw = pd.read_excel('data-facial-wash.xlsx')\n",
    "raw.head()"
   ]
  },
  {
   "cell_type": "code",
   "execution_count": 43,
   "metadata": {},
   "outputs": [
    {
     "data": {
      "text/html": [
       "<div>\n",
       "<style scoped>\n",
       "    .dataframe tbody tr th:only-of-type {\n",
       "        vertical-align: middle;\n",
       "    }\n",
       "\n",
       "    .dataframe tbody tr th {\n",
       "        vertical-align: top;\n",
       "    }\n",
       "\n",
       "    .dataframe thead th {\n",
       "        text-align: right;\n",
       "    }\n",
       "</style>\n",
       "<table border=\"1\" class=\"dataframe\">\n",
       "  <thead>\n",
       "    <tr style=\"text-align: right;\">\n",
       "      <th></th>\n",
       "      <th>Harga</th>\n",
       "      <th>Jenis_Kulit</th>\n",
       "      <th>Rating</th>\n",
       "      <th>Jumlah_Terjual</th>\n",
       "    </tr>\n",
       "  </thead>\n",
       "  <tbody>\n",
       "    <tr>\n",
       "      <th>0</th>\n",
       "      <td>23250</td>\n",
       "      <td>1</td>\n",
       "      <td>3.504</td>\n",
       "      <td>1334</td>\n",
       "    </tr>\n",
       "    <tr>\n",
       "      <th>1</th>\n",
       "      <td>26500</td>\n",
       "      <td>2</td>\n",
       "      <td>4.231</td>\n",
       "      <td>978</td>\n",
       "    </tr>\n",
       "    <tr>\n",
       "      <th>2</th>\n",
       "      <td>16999</td>\n",
       "      <td>3</td>\n",
       "      <td>4.883</td>\n",
       "      <td>1243</td>\n",
       "    </tr>\n",
       "    <tr>\n",
       "      <th>3</th>\n",
       "      <td>32500</td>\n",
       "      <td>4</td>\n",
       "      <td>4.654</td>\n",
       "      <td>256</td>\n",
       "    </tr>\n",
       "    <tr>\n",
       "      <th>4</th>\n",
       "      <td>21300</td>\n",
       "      <td>5</td>\n",
       "      <td>4.764</td>\n",
       "      <td>660</td>\n",
       "    </tr>\n",
       "  </tbody>\n",
       "</table>\n",
       "</div>"
      ],
      "text/plain": [
       "   Harga  Jenis_Kulit  Rating  Jumlah_Terjual\n",
       "0  23250            1   3.504            1334\n",
       "1  26500            2   4.231             978\n",
       "2  16999            3   4.883            1243\n",
       "3  32500            4   4.654             256\n",
       "4  21300            5   4.764             660"
      ]
     },
     "execution_count": 43,
     "metadata": {},
     "output_type": "execute_result"
    }
   ],
   "source": [
    "data = raw.drop(['Merk_Produk'], axis=1)\n",
    "data.head()"
   ]
  },
  {
   "cell_type": "code",
   "execution_count": 44,
   "metadata": {},
   "outputs": [],
   "source": [
    "# Define hyperparameters\n",
    "n_clusters_range = range(2, 15)\n",
    "n_clusters = 4\n",
    "max_iter = 1000\n",
    "m = 2\n",
    "error = 0.0001"
   ]
  },
  {
   "cell_type": "code",
   "execution_count": 45,
   "metadata": {},
   "outputs": [
    {
     "name": "stdout",
     "output_type": "stream",
     "text": [
      "Cluster Centers: [[1.61342340e+04 2.78760519e+00 4.22524801e+00 8.08586390e+02]\n",
      " [2.76168148e+04 2.22910147e+00 4.07790550e+00 7.48389368e+02]\n",
      " [8.62294573e+04 2.97190187e+00 4.67186218e+00 8.90801588e+02]\n",
      " [3.32661071e+04 1.86131610e+00 4.39352849e+00 7.41938851e+02]]\n",
      "Cluster Membership: [1 1 0 3 0 0 3 0 0 0 3 3 0 0 0 1 3 3 2 0 3 3 0 3 3 2 3 0 3 2 1 2 3 3 0]\n"
     ]
    }
   ],
   "source": [
    "# Apply fuzzy c-means clustering\n",
    "cntr, u, u0, d, jm, p, fpc = fuzz.cluster.cmeans(\n",
    "    data.to_numpy().T, n_clusters, m, error=error, maxiter=max_iter, init=None, seed=42\n",
    "    )\n",
    "\n",
    "# Predict cluster membership for each data2 point\n",
    "cluster_membership = np.argmax(u, axis=0)\n",
    "\n",
    "# Print the cluster centers\n",
    "print('Cluster Centers:', cntr)\n",
    " \n",
    "# Print the cluster membership for each data2 point\n",
    "print('Cluster Membership:', cluster_membership)"
   ]
  },
  {
   "cell_type": "code",
   "execution_count": 46,
   "metadata": {},
   "outputs": [
    {
     "data": {
      "text/plain": [
       "array([[ 7135.13760946, 10367.15033228,   967.74783274, 16375.09235373,\n",
       "         5167.90298813,  2066.59777841, 16865.81015943,  2097.25903764,\n",
       "         2184.00330218,  2866.26183738, 15867.87323349, 15568.32213724,\n",
       "          636.85652744,  4073.98126649,   278.79389517,  5865.92846258,\n",
       "        16365.81848597, 39666.30828521, 43865.91050288,  6684.28323522,\n",
       "        15504.10153866, 21865.84455716,   879.91202134, 15793.09281213,\n",
       "        16266.02295221, 83865.77088803, 15866.46180362,  2118.92170922,\n",
       "        16365.87758908, 48868.02227876, 11876.40501528, 68781.57411202,\n",
       "        16445.81128761, 15874.66326807,   266.41045974],\n",
       "       [ 4405.90659465,  1140.17382761, 10629.32883534,  4907.94750495,\n",
       "         6317.4337919 ,  9416.81532361,  5383.22868752, 13576.91593269,\n",
       "        13622.78859417, 14342.50202644,  4387.67289457,  4085.80934102,\n",
       "        12118.27511939,  7419.46772607, 11750.64453017,  5616.840121  ,\n",
       "         4884.24244725, 28184.45576355, 32383.22762728, 18166.84778574,\n",
       "         4026.67832817, 10383.18546485, 10728.17650165,  4310.38415921,\n",
       "         4785.58755051, 72383.19218752,  4384.0764737 ,  9366.97862332,\n",
       "         4884.67464545, 37385.42690664,   585.26865464, 57299.53718377,\n",
       "         4963.23236531,  4422.93085841, 11742.44452531],\n",
       "       [62981.01679972, 59729.52100113, 69231.35321149, 53733.20724037,\n",
       "        64929.86758164, 68029.60308194, 53229.59442789, 72189.72020224,\n",
       "        72231.51951586, 72955.00549272, 54230.52824087, 54527.87650769,\n",
       "        70730.46692323, 66030.33687071, 70362.45742737, 64229.58059436,\n",
       "        53729.4728776 , 30429.71494311, 26230.18079318, 76779.53304996,\n",
       "        54595.95065804, 48229.66291142, 69330.3468652 , 54302.76844001,\n",
       "        53829.45816663, 13770.98857452, 54229.94852044, 67979.74514816,\n",
       "        53729.46180486, 21236.627522  , 58232.39387353,  1338.2461043 ,\n",
       "        53649.5933547 , 54231.31776937, 70354.46042447],\n",
       "       [10033.59056238,  6770.22380235, 16274.82219673,   907.22726634,\n",
       "        11966.38806529, 15066.10959341,   267.58327496, 19226.16201906,\n",
       "        19270.19575704, 19991.55595449,  1280.57363942,  1565.45606274,\n",
       "        17767.46063336, 13067.51685158, 17399.72046613, 11266.13123513,\n",
       "          773.69144615, 22535.55948974, 26733.93237705, 23816.14252758,\n",
       "         1650.91062332,  4733.89987082, 16373.74498367,  1339.56313091,\n",
       "          880.41222062, 66733.90382062,  1268.75648838, 15016.18689049,\n",
       "          776.57293137, 31736.45108778,  5284.12024804, 51650.44226865,\n",
       "          686.6809895 ,  1400.25182882, 17391.57859979]])"
      ]
     },
     "execution_count": 46,
     "metadata": {},
     "output_type": "execute_result"
    }
   ],
   "source": [
    "d"
   ]
  },
  {
   "cell_type": "code",
   "execution_count": 47,
   "metadata": {},
   "outputs": [
    {
     "data": {
      "text/plain": [
       "array([[0.16989996, 0.36670751, 0.35030788, 0.11308465],\n",
       "       [0.50992314, 0.163382  , 0.10658273, 0.22011213],\n",
       "       [0.46015959, 0.06140045, 0.00347142, 0.47496855],\n",
       "       [0.25724951, 0.29402174, 0.35041189, 0.09831685],\n",
       "       [0.1130563 , 0.31894914, 0.51221235, 0.0557822 ],\n",
       "       [0.12029269, 0.09410784, 0.56216226, 0.22343721],\n",
       "       [0.03909374, 0.33328366, 0.51911104, 0.10851156],\n",
       "       [0.45485111, 0.01805829, 0.03888273, 0.48820787],\n",
       "       [0.2245462 , 0.33967616, 0.13390469, 0.30187295],\n",
       "       [0.41259956, 0.15079317, 0.06751783, 0.36908944],\n",
       "       [0.00851418, 0.27403329, 0.35699791, 0.36045461],\n",
       "       [0.35808648, 0.11508237, 0.23011894, 0.29671222],\n",
       "       [0.44516155, 0.2781144 , 0.17695283, 0.09977122],\n",
       "       [0.12380086, 0.31875051, 0.03705666, 0.52039197],\n",
       "       [0.14940376, 0.15189306, 0.25553106, 0.44317212],\n",
       "       [0.08024304, 0.42421214, 0.14227403, 0.35327078],\n",
       "       [0.11247101, 0.28654789, 0.26971779, 0.33126332],\n",
       "       [0.21685796, 0.38825217, 0.2634735 , 0.13141637],\n",
       "       [0.18585978, 0.38503145, 0.38175499, 0.04735377],\n",
       "       [0.18324605, 0.37620827, 0.29712521, 0.14342046],\n",
       "       [0.29409936, 0.44311734, 0.05748537, 0.20529792],\n",
       "       [0.07929185, 0.05030138, 0.40542643, 0.46498034],\n",
       "       [0.1384806 , 0.09289858, 0.36062263, 0.40799819],\n",
       "       [0.37390788, 0.04615885, 0.57283795, 0.00709533],\n",
       "       [0.22105895, 0.15768891, 0.37369088, 0.24756126],\n",
       "       [0.37657239, 0.18641062, 0.23682562, 0.20019138],\n",
       "       [0.16422385, 0.22317394, 0.42992725, 0.18267496],\n",
       "       [0.27202726, 0.4383977 , 0.22616691, 0.06340814],\n",
       "       [0.45146592, 0.27187375, 0.01937135, 0.25728899],\n",
       "       [0.03370402, 0.20384367, 0.0782851 , 0.68416721],\n",
       "       [0.40371834, 0.36062582, 0.02088494, 0.21477089],\n",
       "       [0.11626782, 0.09608583, 0.4339213 , 0.35372505],\n",
       "       [0.03451702, 0.4256537 , 0.16680041, 0.37302886],\n",
       "       [0.50056303, 0.0393275 , 0.26828493, 0.19182454],\n",
       "       [0.25200037, 0.25754725, 0.23684704, 0.25360534]])"
      ]
     },
     "execution_count": 47,
     "metadata": {},
     "output_type": "execute_result"
    }
   ],
   "source": [
    "initialized_u = u0.T\n",
    "initialized_u"
   ]
  },
  {
   "cell_type": "code",
   "execution_count": 48,
   "metadata": {},
   "outputs": [
    {
     "data": {
      "image/png": "[encoded data removed]",
      "text/plain": [
       "<Figure size 640x480 with 1 Axes>"
      ]
     },
     "metadata": {},
     "output_type": "display_data"
    }
   ],
   "source": [
    "# Plot results (adjust if you have more than 2 features)\n",
    "data_plot = data.to_numpy()\n",
    "for j in range(n_clusters):\n",
    "    plt.scatter(data_plot[:, 0][cluster_membership == j], \n",
    "                data_plot[:, 3][cluster_membership == j], \n",
    "                s=50, label=f'Cluster {j+1}')\n",
    "\n",
    "plt.scatter(cntr[:, 0], cntr[:, 3], s=200, c='black', marker='*', label='Centers')\n",
    "plt.legend()\n",
    "plt.show()"
   ]
  },
  {
   "cell_type": "code",
   "execution_count": 49,
   "metadata": {},
   "outputs": [],
   "source": [
    "# # Apply fuzzy c-means clustering\n",
    "# fpcs = []\n",
    "# for n_clusters in n_clusters_range:\n",
    "#     cntr, u, u0, d, jm, p, fpc = fuzz.cluster.cmeans(data.T, n_clusters, m, error=error, maxiter=max_iter, init=None, seed=42)\n",
    "#     fpcs.append(fpc)"
   ]
  },
  {
   "cell_type": "code",
   "execution_count": 50,
   "metadata": {},
   "outputs": [],
   "source": [
    "# # Line plot of FPC vs. number of clusters\n",
    "# plt.plot(n_clusters_range, fpcs)\n",
    "# plt.xlabel('Number of Clusters')\n",
    "# plt.ylabel('FPC')\n",
    "# plt.title('FPC Variation')\n",
    "# plt.show()"
   ]
  }
 ],
 "metadata": {
  "kernelspec": {
   "display_name": "pyenv",
   "language": "python",
   "name": "python3"
  },
  "language_info": {
   "codemirror_mode": {
    "name": "ipython",
    "version": 3
   },
   "file_extension": ".py",
   "mimetype": "text/x-python",
   "name": "python",
   "nbconvert_exporter": "python",
   "pygments_lexer": "ipython3",
   "version": "3.11.3"
  }
 },
 "nbformat": 4,
 "nbformat_minor": 2
}
