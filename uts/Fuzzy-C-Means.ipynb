{
 "cells": [
  {
   "cell_type": "code",
   "execution_count": 1,
   "metadata": {},
   "outputs": [],
   "source": [
    "import numpy as np\n",
    "import pandas as pd\n",
    "import skfuzzy as fuzz\n",
    "from skfuzzy import control as ctrl\n",
    "import matplotlib.pyplot as plt\n",
    "from sklearn.decomposition import PCA"
   ]
  },
  {
   "cell_type": "code",
   "execution_count": 2,
   "metadata": {},
   "outputs": [
    {
     "data": {
      "text/html": [
       "<div>\n",
       "<style scoped>\n",
       "    .dataframe tbody tr th:only-of-type {\n",
       "        vertical-align: middle;\n",
       "    }\n",
       "\n",
       "    .dataframe tbody tr th {\n",
       "        vertical-align: top;\n",
       "    }\n",
       "\n",
       "    .dataframe thead th {\n",
       "        text-align: right;\n",
       "    }\n",
       "</style>\n",
       "<table border=\"1\" class=\"dataframe\">\n",
       "  <thead>\n",
       "    <tr style=\"text-align: right;\">\n",
       "      <th></th>\n",
       "      <th>Merk_Produk</th>\n",
       "      <th>Harga</th>\n",
       "      <th>Jenis_Kulit</th>\n",
       "      <th>Rating</th>\n",
       "      <th>Jumlah_Terjual</th>\n",
       "    </tr>\n",
       "  </thead>\n",
       "  <tbody>\n",
       "    <tr>\n",
       "      <th>0</th>\n",
       "      <td>Cetaphil Gentle Skin Cleanser</td>\n",
       "      <td>23250</td>\n",
       "      <td>1</td>\n",
       "      <td>3.504</td>\n",
       "      <td>1334</td>\n",
       "    </tr>\n",
       "    <tr>\n",
       "      <th>1</th>\n",
       "      <td>MS Glow Facial Wash</td>\n",
       "      <td>26500</td>\n",
       "      <td>2</td>\n",
       "      <td>4.231</td>\n",
       "      <td>978</td>\n",
       "    </tr>\n",
       "    <tr>\n",
       "      <th>2</th>\n",
       "      <td>COSRX Low pH Good Morning Gel Cleanser</td>\n",
       "      <td>16999</td>\n",
       "      <td>3</td>\n",
       "      <td>4.883</td>\n",
       "      <td>1243</td>\n",
       "    </tr>\n",
       "    <tr>\n",
       "      <th>3</th>\n",
       "      <td>COSRX Salicylic Acid Daily Gentle Cleanser</td>\n",
       "      <td>32500</td>\n",
       "      <td>4</td>\n",
       "      <td>4.654</td>\n",
       "      <td>256</td>\n",
       "    </tr>\n",
       "    <tr>\n",
       "      <th>4</th>\n",
       "      <td>Scarlett Whitening Facial Wash</td>\n",
       "      <td>21300</td>\n",
       "      <td>5</td>\n",
       "      <td>4.764</td>\n",
       "      <td>660</td>\n",
       "    </tr>\n",
       "  </tbody>\n",
       "</table>\n",
       "</div>"
      ],
      "text/plain": [
       "                                  Merk_Produk  Harga  Jenis_Kulit  Rating   \n",
       "0               Cetaphil Gentle Skin Cleanser  23250            1   3.504  \\\n",
       "1                         MS Glow Facial Wash  26500            2   4.231   \n",
       "2      COSRX Low pH Good Morning Gel Cleanser  16999            3   4.883   \n",
       "3  COSRX Salicylic Acid Daily Gentle Cleanser  32500            4   4.654   \n",
       "4              Scarlett Whitening Facial Wash  21300            5   4.764   \n",
       "\n",
       "   Jumlah_Terjual  \n",
       "0            1334  \n",
       "1             978  \n",
       "2            1243  \n",
       "3             256  \n",
       "4             660  "
      ]
     },
     "execution_count": 2,
     "metadata": {},
     "output_type": "execute_result"
    }
   ],
   "source": [
    "raw = pd.read_excel('data-facial-wash.xlsx')\n",
    "raw.head()"
   ]
  },
  {
   "cell_type": "code",
   "execution_count": 3,
   "metadata": {},
   "outputs": [
    {
     "data": {
      "text/html": [
       "<div>\n",
       "<style scoped>\n",
       "    .dataframe tbody tr th:only-of-type {\n",
       "        vertical-align: middle;\n",
       "    }\n",
       "\n",
       "    .dataframe tbody tr th {\n",
       "        vertical-align: top;\n",
       "    }\n",
       "\n",
       "    .dataframe thead th {\n",
       "        text-align: right;\n",
       "    }\n",
       "</style>\n",
       "<table border=\"1\" class=\"dataframe\">\n",
       "  <thead>\n",
       "    <tr style=\"text-align: right;\">\n",
       "      <th></th>\n",
       "      <th>Harga</th>\n",
       "      <th>Jenis_Kulit</th>\n",
       "      <th>Rating</th>\n",
       "      <th>Jumlah_Terjual</th>\n",
       "    </tr>\n",
       "  </thead>\n",
       "  <tbody>\n",
       "    <tr>\n",
       "      <th>0</th>\n",
       "      <td>23250</td>\n",
       "      <td>1</td>\n",
       "      <td>3.504</td>\n",
       "      <td>1334</td>\n",
       "    </tr>\n",
       "    <tr>\n",
       "      <th>1</th>\n",
       "      <td>26500</td>\n",
       "      <td>2</td>\n",
       "      <td>4.231</td>\n",
       "      <td>978</td>\n",
       "    </tr>\n",
       "    <tr>\n",
       "      <th>2</th>\n",
       "      <td>16999</td>\n",
       "      <td>3</td>\n",
       "      <td>4.883</td>\n",
       "      <td>1243</td>\n",
       "    </tr>\n",
       "    <tr>\n",
       "      <th>3</th>\n",
       "      <td>32500</td>\n",
       "      <td>4</td>\n",
       "      <td>4.654</td>\n",
       "      <td>256</td>\n",
       "    </tr>\n",
       "    <tr>\n",
       "      <th>4</th>\n",
       "      <td>21300</td>\n",
       "      <td>5</td>\n",
       "      <td>4.764</td>\n",
       "      <td>660</td>\n",
       "    </tr>\n",
       "  </tbody>\n",
       "</table>\n",
       "</div>"
      ],
      "text/plain": [
       "   Harga  Jenis_Kulit  Rating  Jumlah_Terjual\n",
       "0  23250            1   3.504            1334\n",
       "1  26500            2   4.231             978\n",
       "2  16999            3   4.883            1243\n",
       "3  32500            4   4.654             256\n",
       "4  21300            5   4.764             660"
      ]
     },
     "execution_count": 3,
     "metadata": {},
     "output_type": "execute_result"
    }
   ],
   "source": [
    "data = raw.drop(['Merk_Produk'], axis=1)\n",
    "data.head()"
   ]
  },
  {
   "cell_type": "code",
   "execution_count": 4,
   "metadata": {},
   "outputs": [],
   "source": [
    "# Define hyperparameters\n",
    "n_clusters_range = range(2, 15)\n",
    "n_clusters = 4\n",
    "max_iter = 1000\n",
    "m = 2\n",
    "error = 0.005"
   ]
  },
  {
   "cell_type": "code",
   "execution_count": 5,
   "metadata": {},
   "outputs": [
    {
     "name": "stdout",
     "output_type": "stream",
     "text": [
      "Cluster Centers: [[3.26526050e+04 1.90701399e+00 4.38081268e+00 7.31381466e+02]\n",
      " [8.62499971e+04 3.21000894e+00 4.65333186e+00 8.73457433e+02]\n",
      " [3.19988116e+05 4.00001383e+00 3.99299877e+00 6.95999710e+02]\n",
      " [1.69066821e+04 2.81858231e+00 4.15709356e+00 8.09230921e+02]]\n",
      "Cluster Membership: [3 0 3 0 3 3 0 3 3 3 0 0 3 3 3 3 0 0 2 3 0 0 3 0 0 1 0 3 0 1 0 1 0 0 3]\n"
     ]
    }
   ],
   "source": [
    "# Apply fuzzy c-means clustering\n",
    "cntr, u, u0, d, jm, p, fpc = fuzz.cluster.cmeans(\n",
    "    data.to_numpy().T, n_clusters, m, error=error, maxiter=max_iter, init=None, seed=42\n",
    "    )\n",
    "\n",
    "# Predict cluster membership for each data2 point\n",
    "cluster_membership = np.argmax(u, axis=0)\n",
    "\n",
    "# Print the cluster centers\n",
    "print('Cluster Centers:', cntr)\n",
    " \n",
    "# Print the cluster membership for each data2 point\n",
    "print('Cluster Membership:', cluster_membership)"
   ]
  },
  {
   "cell_type": "code",
   "execution_count": 6,
   "metadata": {},
   "outputs": [
    {
     "data": {
      "text/plain": [
       "array([[9.42189639e+03, 6.15754570e+03, 1.56619636e+04, 4.99279762e+02,\n",
       "        1.13528298e+04, 1.44526173e+04, 3.49535499e+02, 1.86126387e+04,\n",
       "        1.86566065e+04, 1.93779980e+04, 6.77343145e+02, 9.52161543e+02,\n",
       "        1.71540434e+04, 1.24539260e+04, 1.67863360e+04, 1.06526586e+04,\n",
       "        1.93286957e+02, 2.31491448e+04, 2.87347397e+05, 2.32026624e+04,\n",
       "        1.04653898e+03, 5.34742752e+03, 1.57608787e+04, 7.26015134e+02,\n",
       "        3.03714337e+02, 6.73474126e+04, 6.56498591e+02, 1.44026562e+04,\n",
       "        2.05494766e+02, 3.23497749e+04, 4.67201057e+03, 5.22640081e+04,\n",
       "        8.22391031e+01, 8.92362438e+02, 1.67781776e+04],\n",
       "       [6.30016805e+04, 5.97500886e+04, 6.92519831e+04, 5.37535436e+04,\n",
       "        6.49503479e+04, 6.80501092e+04, 5.32500977e+04, 7.22102152e+04,\n",
       "        7.22519298e+04, 7.29754800e+04, 5.42509615e+04, 5.45483509e+04,\n",
       "        7.07509998e+04, 6.60507892e+04, 7.03829987e+04, 6.42500887e+04,\n",
       "        5.37500023e+04, 3.04503308e+04, 2.33750070e+05, 7.68000505e+04,\n",
       "        5.46163644e+04, 4.82501551e+04, 6.93509764e+04, 5.43232522e+04,\n",
       "        5.38500037e+04, 1.37503206e+04, 5.42504171e+04, 6.80002366e+04,\n",
       "        5.37499974e+04, 2.12567172e+04, 5.82527611e+04, 1.36174057e+03,\n",
       "        5.36700969e+04, 5.42520033e+04, 7.03749972e+04],\n",
       "       [2.96738802e+05, 2.93488251e+05, 3.02989609e+05, 2.87488452e+05,\n",
       "        2.98688118e+05, 3.01788120e+05, 2.86988125e+05, 3.05948116e+05,\n",
       "        3.05988317e+05, 3.06713128e+05, 2.87988153e+05, 2.88286116e+05,\n",
       "        3.04489157e+05, 2.99788151e+05, 3.04121176e+05, 2.97988124e+05,\n",
       "        2.87488157e+05, 2.64188309e+05, 1.18843443e+01, 3.10538128e+05,\n",
       "        2.88353191e+05, 2.81988121e+05, 3.03088607e+05, 2.88061116e+05,\n",
       "        2.87588188e+05, 2.19988132e+05, 2.87988118e+05, 3.01738116e+05,\n",
       "        2.87488168e+05, 2.54988366e+05, 2.91988376e+05, 2.35073539e+05,\n",
       "        2.87408125e+05, 2.87988836e+05, 3.04113165e+05],\n",
       "       [6.36498768e+03, 9.59480234e+03, 4.43484799e+02, 1.56031288e+04,\n",
       "        4.39585226e+03, 1.29467536e+03, 1.60933658e+04, 2.86891816e+03,\n",
       "        2.94352077e+03, 3.63725328e+03, 1.50955440e+04, 1.47959088e+04,\n",
       "        1.40839438e+03, 3.30350524e+03, 1.04266434e+03, 5.09351054e+03,\n",
       "        1.55933713e+04, 3.88938675e+04, 3.03093339e+05, 7.45672847e+03,\n",
       "        1.47318424e+04, 2.10934012e+04, 4.32820888e+02, 1.50206659e+04,\n",
       "        1.54935839e+04, 8.30933231e+04, 1.50940557e+04, 1.34833822e+03,\n",
       "        1.55934325e+04, 4.80956167e+04, 1.11047262e+04, 6.80091320e+04,\n",
       "        1.56733670e+04, 1.51026476e+04, 1.03347063e+03]])"
      ]
     },
     "execution_count": 6,
     "metadata": {},
     "output_type": "execute_result"
    }
   ],
   "source": [
    "d"
   ]
  },
  {
   "cell_type": "code",
   "execution_count": 7,
   "metadata": {},
   "outputs": [
    {
     "data": {
      "text/plain": [
       "array([[0.16989996, 0.36670751, 0.35030788, 0.11308465],\n",
       "       [0.50992314, 0.163382  , 0.10658273, 0.22011213],\n",
       "       [0.46015959, 0.06140045, 0.00347142, 0.47496855],\n",
       "       [0.25724951, 0.29402174, 0.35041189, 0.09831685],\n",
       "       [0.1130563 , 0.31894914, 0.51221235, 0.0557822 ],\n",
       "       [0.12029269, 0.09410784, 0.56216226, 0.22343721],\n",
       "       [0.03909374, 0.33328366, 0.51911104, 0.10851156],\n",
       "       [0.45485111, 0.01805829, 0.03888273, 0.48820787],\n",
       "       [0.2245462 , 0.33967616, 0.13390469, 0.30187295],\n",
       "       [0.41259956, 0.15079317, 0.06751783, 0.36908944],\n",
       "       [0.00851418, 0.27403329, 0.35699791, 0.36045461],\n",
       "       [0.35808648, 0.11508237, 0.23011894, 0.29671222],\n",
       "       [0.44516155, 0.2781144 , 0.17695283, 0.09977122],\n",
       "       [0.12380086, 0.31875051, 0.03705666, 0.52039197],\n",
       "       [0.14940376, 0.15189306, 0.25553106, 0.44317212],\n",
       "       [0.08024304, 0.42421214, 0.14227403, 0.35327078],\n",
       "       [0.11247101, 0.28654789, 0.26971779, 0.33126332],\n",
       "       [0.21685796, 0.38825217, 0.2634735 , 0.13141637],\n",
       "       [0.18585978, 0.38503145, 0.38175499, 0.04735377],\n",
       "       [0.18324605, 0.37620827, 0.29712521, 0.14342046],\n",
       "       [0.29409936, 0.44311734, 0.05748537, 0.20529792],\n",
       "       [0.07929185, 0.05030138, 0.40542643, 0.46498034],\n",
       "       [0.1384806 , 0.09289858, 0.36062263, 0.40799819],\n",
       "       [0.37390788, 0.04615885, 0.57283795, 0.00709533],\n",
       "       [0.22105895, 0.15768891, 0.37369088, 0.24756126],\n",
       "       [0.37657239, 0.18641062, 0.23682562, 0.20019138],\n",
       "       [0.16422385, 0.22317394, 0.42992725, 0.18267496],\n",
       "       [0.27202726, 0.4383977 , 0.22616691, 0.06340814],\n",
       "       [0.45146592, 0.27187375, 0.01937135, 0.25728899],\n",
       "       [0.03370402, 0.20384367, 0.0782851 , 0.68416721],\n",
       "       [0.40371834, 0.36062582, 0.02088494, 0.21477089],\n",
       "       [0.11626782, 0.09608583, 0.4339213 , 0.35372505],\n",
       "       [0.03451702, 0.4256537 , 0.16680041, 0.37302886],\n",
       "       [0.50056303, 0.0393275 , 0.26828493, 0.19182454],\n",
       "       [0.25200037, 0.25754725, 0.23684704, 0.25360534]])"
      ]
     },
     "execution_count": 7,
     "metadata": {},
     "output_type": "execute_result"
    }
   ],
   "source": [
    "initialized_u = u0.T\n",
    "initialized_u"
   ]
  },
  {
   "cell_type": "code",
   "execution_count": 8,
   "metadata": {},
   "outputs": [
    {
     "data": {
      "image/png": "[encoded data removed]",
      "text/plain": [
       "<Figure size 640x480 with 1 Axes>"
      ]
     },
     "metadata": {},
     "output_type": "display_data"
    }
   ],
   "source": [
    "# Plot results (adjust if you have more than 2 features)\n",
    "data_plot = data.to_numpy()\n",
    "for j in range(n_clusters):\n",
    "    plt.scatter(data_plot[:, 0][cluster_membership == j], \n",
    "                data_plot[:, 3][cluster_membership == j], \n",
    "                s=50, label=f'Cluster {j+1}')\n",
    "\n",
    "plt.scatter(cntr[:, 0], cntr[:, 3], s=200, c='black', marker='*', label='Centers')\n",
    "plt.legend()\n",
    "plt.show()"
   ]
  },
  {
   "cell_type": "code",
   "execution_count": 9,
   "metadata": {},
   "outputs": [],
   "source": [
    "# # Apply fuzzy c-means clustering\n",
    "# fpcs = []\n",
    "# for n_clusters in n_clusters_range:\n",
    "#     cntr, u, u0, d, jm, p, fpc = fuzz.cluster.cmeans(data.T, n_clusters, m, error=error, maxiter=max_iter, init=None, seed=42)\n",
    "#     fpcs.append(fpc)"
   ]
  },
  {
   "cell_type": "code",
   "execution_count": 10,
   "metadata": {},
   "outputs": [],
   "source": [
    "# # Line plot of FPC vs. number of clusters\n",
    "# plt.plot(n_clusters_range, fpcs)\n",
    "# plt.xlabel('Number of Clusters')\n",
    "# plt.ylabel('FPC')\n",
    "# plt.title('FPC Variation')\n",
    "# plt.show()"
   ]
  }
 ],
 "metadata": {
  "kernelspec": {
   "display_name": "pyenv",
   "language": "python",
   "name": "python3"
  },
  "language_info": {
   "codemirror_mode": {
    "name": "ipython",
    "version": 3
   },
   "file_extension": ".py",
   "mimetype": "text/x-python",
   "name": "python",
   "nbconvert_exporter": "python",
   "pygments_lexer": "ipython3",
   "version": "3.11.3"
  }
 },
 "nbformat": 4,
 "nbformat_minor": 2
}
