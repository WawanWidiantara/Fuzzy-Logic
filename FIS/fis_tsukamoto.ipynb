{
  "cells": [
    {
      "cell_type": "code",
      "execution_count": 43,
      "metadata": {
        "colab": {},
        "colab_type": "code",
        "id": "9JZxzFdoXnL9"
      },
      "outputs": [],
      "source": [
        "#Initialization\n",
        "\n",
        "x_min = 1\n",
        "x_max = 5\n",
        "\n",
        "y_min = 4\n",
        "y_mid = 10\n",
        "y_max = 16\n",
        "\n",
        "z_min = 300\n",
        "z_max = 900"
      ]
    },
    {
      "cell_type": "code",
      "execution_count": 44,
      "metadata": {
        "colab": {},
        "colab_type": "code",
        "id": "IenNufXzb4vr"
      },
      "outputs": [],
      "source": [
        "#Qst\n",
        "\n",
        "x = 4\n",
        "y = 12"
      ]
    },
    {
      "cell_type": "code",
      "execution_count": 45,
      "metadata": {
        "colab": {},
        "colab_type": "code",
        "id": "_W_t2PuGcAN5"
      },
      "outputs": [
        {
          "name": "stdout",
          "output_type": "stream",
          "text": [
            "0.25 0.75\n",
            "0 0.6666666666666666 0.3333333333333333\n"
          ]
        }
      ],
      "source": [
        "# [1] Fuzzification\n",
        "\n",
        "def fasillitasBiasa(fasilitas):\n",
        "  if fasilitas <= x_min:\n",
        "    x_fasilitas = 1\n",
        "  elif fasilitas > x_min and fasilitas < x_max:\n",
        "    x_fasilitas = ((x_max-fasilitas)/(x_max-x_min))\n",
        "  elif fasilitas >= x_max:\n",
        "    x_fasilitas = 0\n",
        "  return x_fasilitas\n",
        "\n",
        "def fasilitasLengkap(fasilitas):\n",
        "  if fasilitas <= x_min:\n",
        "    x_fasilitas = 0\n",
        "  elif fasilitas > x_min and fasilitas < x_max:\n",
        "    x_fasilitas = ((fasilitas-x_min)/(x_max-x_min))\n",
        "  elif fasilitas >= x_max:\n",
        "    x_fasilitas = 1\n",
        "  return x_fasilitas\n",
        "\n",
        "def kamarSempit(kamar):\n",
        "  if kamar <= y_min:\n",
        "    y_kamar = 1\n",
        "  elif kamar > y_min and kamar < y_mid:\n",
        "    y_kamar = ((y_mid-kamar)/(y_mid-y_min))\n",
        "  elif kamar >= y_mid:\n",
        "    y_kamar = 0\n",
        "  return y_kamar\n",
        "\n",
        "def kamarSedang(kamar):\n",
        "  if kamar <= y_min:\n",
        "    y_kamar = 0\n",
        "  elif kamar > y_min and kamar < y_mid:\n",
        "    y_kamar = ((kamar-y_min)/(y_mid-y_min))\n",
        "  elif kamar > y_mid and kamar < y_max:\n",
        "    y_kamar = ((y_max-kamar)/(y_max-y_mid))\n",
        "  elif kamar >= y_max:\n",
        "    y_kamar = 1\n",
        "  return y_kamar\n",
        "\n",
        "def kamarLuas(kamar):\n",
        "  if kamar <= y_mid:\n",
        "    y_kamar = 0\n",
        "  elif kamar > y_mid and kamar < y_max:\n",
        "    y_kamar = ((kamar-y_mid)/(y_max-y_mid))\n",
        "  elif kamar >= y_max:\n",
        "    y_kamar = 1\n",
        "  return y_kamar\n",
        "\n",
        "\n",
        "fasilitas_biasa = fasillitasBiasa(x)\n",
        "fasilitas_lengkap = fasilitasLengkap(x)\n",
        "\n",
        "kamar_sempit = kamarSempit(y)\n",
        "kamar_sedang = kamarSedang(y)\n",
        "kamar_luas = kamarLuas(y)\n",
        "\n",
        "print(fasilitas_biasa, fasilitas_lengkap)\n",
        "print(kamar_sempit, kamar_sedang, kamar_luas)"
      ]
    },
    {
      "cell_type": "code",
      "execution_count": 46,
      "metadata": {
        "colab": {},
        "colab_type": "code",
        "id": "hW4LPfhSzDgw"
      },
      "outputs": [
        {
          "name": "stdout",
          "output_type": "stream",
          "text": [
            "0 0.25 0.25 0 0.6666666666666666 0.3333333333333333\n",
            "900 750.0 750.0 900 700.0 500.0\n"
          ]
        }
      ],
      "source": [
        "# [2] Implication\n",
        "\n",
        "# Rule 1\n",
        "# if fasilitas biasa and kamar sempit then harga murah\n",
        "pred_1 = min([fasilitas_biasa, kamar_sempit])\n",
        "\n",
        "# Rule 2\n",
        "# if fasilitas biasa and kamar sedang then harga murah\n",
        "pred_2 = min([fasilitas_biasa, kamar_sedang])\n",
        "\n",
        "# Rule 3\n",
        "# if fasilitas biasa and kamar luas then harga murah\n",
        "pred_3 = min([fasilitas_biasa, kamar_luas])\n",
        "\n",
        "# Rule 4\n",
        "# if fasilitas lengkap and kamar sempit then harga mahal\n",
        "pred_4 = min([fasilitas_lengkap, kamar_sempit])\n",
        "\n",
        "# Rule 5\n",
        "# if fasilitas lengkap and kamar sedang then harga mahal\n",
        "pred_5 = min([fasilitas_lengkap, kamar_sedang])\n",
        "\n",
        "# Rule 6\n",
        "# if fasilitas lengkap and kamar luas then harga mahal\n",
        "pred_6 = min([fasilitas_lengkap, kamar_luas])\n",
        "\n",
        "print(pred_1, pred_2, pred_3, pred_4, pred_5, pred_6)\n",
        "\n",
        "# Find z1, z2, z3, z4, z5, z6\n",
        "def z1(pred1):\n",
        "  if ((pred1 > 0) and (pred1 < 1)):\n",
        "    z1 = (z_max - (pred1*(z_max-z_min)))\n",
        "  elif (pred1 == 1):\n",
        "    z1 = z_min\n",
        "  elif (pred1 == 0):\n",
        "    z1 = z_max\n",
        "  return z1\n",
        "\n",
        "\n",
        "def z2(pred2):\n",
        "  if ((pred2 > 0) and (pred2 < 1)):\n",
        "    z2 = (z_max - (pred2*(z_max-z_min)))\n",
        "  elif (pred2 == 1):\n",
        "    z2 = z_min\n",
        "  elif (pred2 == 0):\n",
        "    z2 = z_max\n",
        "  return z2\n",
        "\n",
        "def z3(pred3):\n",
        "  if ((pred3 > 0) and (pred3 < 1)):\n",
        "    z3 = (z_max - (pred3*(z_max-z_min)))\n",
        "  elif (pred3 == 1):\n",
        "    z3 = z_min\n",
        "  elif (pred3 == 0):\n",
        "    z3 = z_max\n",
        "  return z3\n",
        "\n",
        "def z4(pred4):\n",
        "  if ((pred4 > 0) and (pred4 < 1)):\n",
        "    z4 = (pred4*(z_max-z_min)+z_min)\n",
        "  elif (pred4 == 1):\n",
        "    z4 = z_min\n",
        "  elif (pred4 == 0):\n",
        "    z4 = z_max\n",
        "  return z4\n",
        "\n",
        "def z5(pred5):\n",
        "  if ((pred5 > 0) and (pred5 < 1)):\n",
        "    z5 = (pred5*(z_max-z_min)+z_min)\n",
        "  elif (pred5 == 1):\n",
        "    z5 = z_min\n",
        "  elif (pred5 == 0):\n",
        "    z5 = z_max\n",
        "  return z5\n",
        "\n",
        "def z6(pred4):\n",
        "  if ((pred4 > 0) and (pred4 < 1)):\n",
        "    z6 = (pred4*(z_max-z_min)+z_min)\n",
        "  elif (pred4 == 1):\n",
        "    z6 = z_min\n",
        "  elif (pred4 == 0):\n",
        "    z6 = z_max\n",
        "  return z6\n",
        "\n",
        "z_1 = z1(pred_1)\n",
        "z_2 = z2(pred_2)\n",
        "z_3 = z3(pred_3)\n",
        "z_4 = z4(pred_4)\n",
        "z_5 = z5(pred_5)\n",
        "z_6 = z6(pred_6)\n",
        "\n",
        "print(z_1, z_2, z_3, z_4, z_5, z_6)"
      ]
    },
    {
      "cell_type": "code",
      "execution_count": 47,
      "metadata": {
        "colab": {},
        "colab_type": "code",
        "id": "KjbgbZzM4MS7"
      },
      "outputs": [],
      "source": [
        "# [3] Defuzzyfication\n",
        "\n",
        "Z = ((pred_1*z_1)+(pred_2*z_2)+(pred_3*z_3)+(pred_4*z_4)+(pred_5*z_5)+(pred_6*z_6))/(pred_1+pred_2+pred_3+pred_4+pred_5+pred_6)"
      ]
    },
    {
      "cell_type": "code",
      "execution_count": 48,
      "metadata": {
        "colab": {
          "base_uri": "https://localhost:8080/",
          "height": 35
        },
        "colab_type": "code",
        "id": "KFPZdX1Em0Zx",
        "outputId": "b1e9a069-bf38-4271-f011-79e0676e3bbd"
      },
      "outputs": [
        {
          "name": "stdout",
          "output_type": "stream",
          "text": [
            "Harga Kost 672 ribu rupiah\n"
          ]
        }
      ],
      "source": [
        "print('Harga Kost', round(Z) ,'ribu rupiah')"
      ]
    }
  ],
  "metadata": {
    "colab": {
      "collapsed_sections": [],
      "name": "fis-tsukamoto.ipynb",
      "provenance": [],
      "version": "0.3.2"
    },
    "kernelspec": {
      "display_name": "Python 3",
      "name": "python3"
    },
    "language_info": {
      "codemirror_mode": {
        "name": "ipython",
        "version": 3
      },
      "file_extension": ".py",
      "mimetype": "text/x-python",
      "name": "python",
      "nbconvert_exporter": "python",
      "pygments_lexer": "ipython3",
      "version": "3.10.1"
    }
  },
  "nbformat": 4,
  "nbformat_minor": 0
}
